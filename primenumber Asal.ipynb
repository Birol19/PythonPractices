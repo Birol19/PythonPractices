{
 "cells": [
  {
   "cell_type": "code",
   "execution_count": 8,
   "metadata": {},
   "outputs": [
    {
     "name": "stdin",
     "output_type": "stream",
     "text": [
      " 11\n"
     ]
    },
    {
     "name": "stdout",
     "output_type": "stream",
     "text": [
      "True\n"
     ]
    }
   ],
   "source": [
    "#checking numbers if they are prime or not/ asal sayi kontrol\n",
    "def primecheck():\n",
    "    x=int(input())\n",
    "    if x < 2:\n",
    "        return False\n",
    "    for i in range(2, x):\n",
    "        if x % i==0:\n",
    "            return False\n",
    "    else:\n",
    "        return True\n",
    "    \n",
    "print(primecheck())\n"
   ]
  },
  {
   "cell_type": "code",
   "execution_count": 15,
   "metadata": {},
   "outputs": [
    {
     "name": "stdin",
     "output_type": "stream",
     "text": [
      " 11\n"
     ]
    },
    {
     "name": "stdout",
     "output_type": "stream",
     "text": [
      "yes, you got it. 11 is a prime number\n"
     ]
    }
   ],
   "source": [
    "def primecheck():\n",
    "    x=int(input())\n",
    "    if x < 2:\n",
    "        print (f\"{x} is not a prime number, please try a number greater than 1\")\n",
    "    for i in range(2, x):\n",
    "        if x % i==0:\n",
    "            print(f\"{x} is not a prime number\")\n",
    "    else:\n",
    "        print(f\"yes, you got it. {x} is a prime number\")\n",
    "    \n",
    "primecheck()"
   ]
  },
  {
   "cell_type": "code",
   "execution_count": null,
   "metadata": {},
   "outputs": [],
   "source": []
  }
 ],
 "metadata": {
  "kernelspec": {
   "display_name": "Python 3",
   "language": "python",
   "name": "python3"
  },
  "language_info": {
   "codemirror_mode": {
    "name": "ipython",
    "version": 3
   },
   "file_extension": ".py",
   "mimetype": "text/x-python",
   "name": "python",
   "nbconvert_exporter": "python",
   "pygments_lexer": "ipython3",
   "version": "3.7.3"
  }
 },
 "nbformat": 4,
 "nbformat_minor": 2
}
